{
 "cells": [
  {
   "cell_type": "markdown",
   "id": "bdf454be",
   "metadata": {},
   "source": [
    "# Demonstrating GPU performance on synthetic data"
   ]
  },
  {
   "cell_type": "markdown",
   "id": "ebd26c95",
   "metadata": {},
   "source": [
    "### Overview of this notebook\n",
    "\n",
    "This notebook demonstrates the benefit of precomputing tensors prior to model training in GPU. GPU is a througthput device, that means we get higher performance the more it is active. However, it is well known that there is a very high cost to stalling data transfer from CPU to GPU, in addition just-in-time calculations that CPU does in between batches and item retrieval further starves our expected througthput.\n",
    "\n",
    "To overcome this, we can precompute all the tensors that the Model needs to be able to continously perform forward and backward prop with minimal delay in the GPU.\n",
    "\n",
    "* Initial setup\n",
    "* Testing on precompute = True\n",
    "* Testing on default code\n",
    "* Performance comparisons"
   ]
  },
  {
   "cell_type": "markdown",
   "id": "3d897030",
   "metadata": {},
   "source": [
    "### Initial setup"
   ]
  },
  {
   "cell_type": "code",
   "execution_count": 129,
   "id": "5268f19a",
   "metadata": {},
   "outputs": [],
   "source": [
    "import warnings\n",
    "\n",
    "warnings.filterwarnings(\"ignore\")   \n",
    "\n",
    "import lightning.pytorch as pl\n",
    "from lightning.pytorch.callbacks import EarlyStopping\n",
    "import matplotlib.pyplot as plt\n",
    "import numpy as np\n",
    "import pandas as pd\n",
    "import torch\n",
    "\n",
    "from pytorch_forecasting import Baseline, NHiTS, TimeSeriesDataSet\n",
    "from pytorch_forecasting.data import NaNLabelEncoder\n",
    "from pytorch_forecasting.data.examples import generate_ar_data\n",
    "from pytorch_forecasting.metrics import MAE, SMAPE, MQF2DistributionLoss, QuantileLoss\n",
    "\n",
    "torch.set_float32_matmul_precision(\"medium\")\n",
    "torch.backends.cuda.matmul.allow_tf32 = True\n",
    "torch.backends.cudnn.enabled = True\n",
    "torch.backends.cudnn.allow_tf32 = True\n",
    "torch.backends.cuda.matmul.allow_bf16_reduced_precision_reduction = True\n",
    "#torch.backends.cudnn.benchmark = False\n",
    "torch.backends.cuda.matmul.allow_tf32 = True\n",
    "#torch.backends.cudnn.deterministic = True"
   ]
  },
  {
   "cell_type": "markdown",
   "id": "9bca32af",
   "metadata": {},
   "source": [
    "##### Create variables to store completion time"
   ]
  },
  {
   "cell_type": "code",
   "execution_count": 1,
   "id": "8f58a741",
   "metadata": {},
   "outputs": [],
   "source": [
    "time_hyperopt = []\n",
    "time_train = []"
   ]
  },
  {
   "cell_type": "markdown",
   "id": "57b711fa",
   "metadata": {},
   "source": [
    "##### Create synthetic data"
   ]
  },
  {
   "cell_type": "code",
   "execution_count": null,
   "id": "57e75333",
   "metadata": {},
   "outputs": [
    {
     "data": {
      "text/html": [
       "<div>\n",
       "<style scoped>\n",
       "    .dataframe tbody tr th:only-of-type {\n",
       "        vertical-align: middle;\n",
       "    }\n",
       "\n",
       "    .dataframe tbody tr th {\n",
       "        vertical-align: top;\n",
       "    }\n",
       "\n",
       "    .dataframe thead th {\n",
       "        text-align: right;\n",
       "    }\n",
       "</style>\n",
       "<table border=\"1\" class=\"dataframe\">\n",
       "  <thead>\n",
       "    <tr style=\"text-align: right;\">\n",
       "      <th></th>\n",
       "      <th>series</th>\n",
       "      <th>time_idx</th>\n",
       "      <th>value</th>\n",
       "      <th>static</th>\n",
       "      <th>date</th>\n",
       "    </tr>\n",
       "  </thead>\n",
       "  <tbody>\n",
       "    <tr>\n",
       "      <th>0</th>\n",
       "      <td>0</td>\n",
       "      <td>0</td>\n",
       "      <td>-0.000000</td>\n",
       "      <td>2</td>\n",
       "      <td>2020-01-01</td>\n",
       "    </tr>\n",
       "    <tr>\n",
       "      <th>1</th>\n",
       "      <td>0</td>\n",
       "      <td>1</td>\n",
       "      <td>0.006950</td>\n",
       "      <td>2</td>\n",
       "      <td>2020-01-02</td>\n",
       "    </tr>\n",
       "    <tr>\n",
       "      <th>2</th>\n",
       "      <td>0</td>\n",
       "      <td>2</td>\n",
       "      <td>0.012621</td>\n",
       "      <td>2</td>\n",
       "      <td>2020-01-03</td>\n",
       "    </tr>\n",
       "    <tr>\n",
       "      <th>3</th>\n",
       "      <td>0</td>\n",
       "      <td>3</td>\n",
       "      <td>0.007101</td>\n",
       "      <td>2</td>\n",
       "      <td>2020-01-04</td>\n",
       "    </tr>\n",
       "    <tr>\n",
       "      <th>4</th>\n",
       "      <td>0</td>\n",
       "      <td>4</td>\n",
       "      <td>-0.007279</td>\n",
       "      <td>2</td>\n",
       "      <td>2020-01-05</td>\n",
       "    </tr>\n",
       "  </tbody>\n",
       "</table>\n",
       "</div>"
      ],
      "text/plain": [
       "   series  time_idx     value  static       date\n",
       "0       0         0 -0.000000       2 2020-01-01\n",
       "1       0         1  0.006950       2 2020-01-02\n",
       "2       0         2  0.012621       2 2020-01-03\n",
       "3       0         3  0.007101       2 2020-01-04\n",
       "4       0         4 -0.007279       2 2020-01-05"
      ]
     },
     "execution_count": 2,
     "metadata": {},
     "output_type": "execute_result"
    }
   ],
   "source": [
    "data = generate_ar_data(seasonality=10.0, timesteps=100, n_series=1024*4, seed=42)\n",
    "data[\"static\"] = 2\n",
    "data[\"date\"] = pd.Timestamp(\"2020-01-01\") + pd.to_timedelta(data.time_idx, \"D\")\n",
    "data.head()"
   ]
  },
  {
   "cell_type": "markdown",
   "id": "cc254b15",
   "metadata": {},
   "source": [
    "### Testing on precompute = True"
   ]
  },
  {
   "cell_type": "markdown",
   "id": "b5f776a3",
   "metadata": {},
   "source": [
    "##### Intialize TimeSeriesDataSet and DataLoader"
   ]
  },
  {
   "cell_type": "markdown",
   "id": "7dee8470",
   "metadata": {},
   "source": [
    "Since we are precomputing tensor here, expect that you will be incuring additional calculation time, but the benefits of approach far outweights this cost as we will see later.\n",
    "\n",
    "Note that precomputing tensors is done in CPU at single thread only"
   ]
  },
  {
   "cell_type": "code",
   "execution_count": 127,
   "id": "3008d01f",
   "metadata": {},
   "outputs": [
    {
     "name": "stdout",
     "output_type": "stream",
     "text": [
      "Using precompute = True\n",
      "Using precompute = True\n",
      "DataLoader initialization time: 50.963802 seconds\n"
     ]
    }
   ],
   "source": [
    "# create dataset and dataloaders\n",
    "max_encoder_length = 30\n",
    "max_prediction_length = 10\n",
    "\n",
    "training_cutoff = data[\"time_idx\"].max() - max_prediction_length\n",
    "\n",
    "context_length = max_encoder_length\n",
    "prediction_length = max_prediction_length\n",
    "\n",
    "training = TimeSeriesDataSet(\n",
    "    data[lambda x: x.time_idx <= training_cutoff],\n",
    "    time_idx=\"time_idx\",\n",
    "    target=\"value\",\n",
    "    categorical_encoders={\"series\": NaNLabelEncoder().fit(data.series)},\n",
    "    group_ids=[\"series\"],\n",
    "    # only unknown variable is \"value\" - and N-HiTS can also not take any additional variables\n",
    "    time_varying_unknown_reals=[\"value\"],\n",
    "    max_encoder_length=context_length,\n",
    "    max_prediction_length=prediction_length,\n",
    "    precompute=True\n",
    ")\n",
    "\n",
    "validation = TimeSeriesDataSet.from_dataset(training, data, min_prediction_idx=training_cutoff + 1)\n",
    "batch_size = 1024*8\n",
    "\n",
    "import time\n",
    "\n",
    "start_time = time.time()\n",
    "\n",
    "train_dataloader = training.to_dataloader(train=True, batch_size=batch_size, num_workers=0, pin_memory=True, shuffle=True)\n",
    "val_dataloader = validation.to_dataloader(train=False, batch_size=batch_size, num_workers=0, pin_memory=True, shuffle=False)\n",
    "\n",
    "end_time = time.time()\n",
    "\n",
    "print(f\"DataLoader initialization time: {end_time - start_time:.6f} seconds\")\n",
    "\n",
    "torch.cuda.empty_cache()"
   ]
  },
  {
   "cell_type": "code",
   "execution_count": 4,
   "id": "b1a183e2",
   "metadata": {},
   "outputs": [
    {
     "name": "stderr",
     "output_type": "stream",
     "text": [
      "You are using the plain ModelCheckpoint callback. Consider using LitModelCheckpoint which with seamless uploading to Model registry.\n"
     ]
    },
    {
     "name": "stderr",
     "output_type": "stream",
     "text": [
      "GPU available: True (cuda), used: True\n",
      "TPU available: False, using: 0 TPU cores\n",
      "HPU available: False, using: 0 HPUs\n",
      "LOCAL_RANK: 0 - CUDA_VISIBLE_DEVICES: [0]\n"
     ]
    }
   ],
   "source": [
    "# calculate baseline absolute error\n",
    "baseline_predictions = Baseline().predict(val_dataloader, trainer_kwargs=dict(accelerator=\"cuda\"), return_y=True)\n",
    "SMAPE()(baseline_predictions.output, baseline_predictions.y)\n",
    "torch.cuda.empty_cache()"
   ]
  },
  {
   "cell_type": "code",
   "execution_count": null,
   "id": "2e696d76",
   "metadata": {},
   "outputs": [
    {
     "name": "stderr",
     "output_type": "stream",
     "text": [
      "Seed set to 42\n",
      "You are using the plain ModelCheckpoint callback. Consider using LitModelCheckpoint which with seamless uploading to Model registry.\n",
      "GPU available: True (cuda), used: True\n",
      "TPU available: False, using: 0 TPU cores\n",
      "HPU available: False, using: 0 HPUs\n"
     ]
    }
   ],
   "source": [
    "pl.seed_everything(42)\n",
    "trainer = pl.Trainer(accelerator=\"cuda\", gradient_clip_val=0.1)\n",
    "net = NHiTS.from_dataset(\n",
    "    training,\n",
    "    learning_rate=3e-2,\n",
    "    weight_decay=1e-2,\n",
    "    loss=MQF2DistributionLoss(prediction_length=max_prediction_length),\n",
    "    backcast_loss_ratio=0.0,\n",
    "    hidden_size=64,\n",
    "    optimizer=\"AdamW\",\n",
    ")\n",
    "\n",
    "torch.cuda.empty_cache()"
   ]
  },
  {
   "cell_type": "markdown",
   "id": "8b168886",
   "metadata": {},
   "source": [
    "##### Perform hyperparmeter optimization"
   ]
  },
  {
   "cell_type": "code",
   "execution_count": 6,
   "id": "e1c56874",
   "metadata": {},
   "outputs": [
    {
     "name": "stderr",
     "output_type": "stream",
     "text": [
      "LOCAL_RANK: 0 - CUDA_VISIBLE_DEVICES: [0]\n"
     ]
    },
    {
     "data": {
      "application/vnd.jupyter.widget-view+json": {
       "model_id": "aae5a477b67c4cefb4ee94e2c53aebcf",
       "version_major": 2,
       "version_minor": 0
      },
      "text/plain": [
       "Finding best initial lr:   0%|          | 0/100 [00:00<?, ?it/s]"
      ]
     },
     "metadata": {},
     "output_type": "display_data"
    },
    {
     "name": "stderr",
     "output_type": "stream",
     "text": [
      "`Trainer.fit` stopped: `max_steps=100` reached.\n",
      "Learning rate set to 0.004365158322401661\n",
      "Restoring states from the checkpoint path at /root/work/git_proof/pytorch_forecasting/.lr_find_8bf867b4-20cc-4118-b74e-660286de51bd.ckpt\n",
      "Restored all states from the checkpoint at /root/work/git_proof/pytorch_forecasting/.lr_find_8bf867b4-20cc-4118-b74e-660286de51bd.ckpt\n"
     ]
    },
    {
     "name": "stdout",
     "output_type": "stream",
     "text": [
      "suggested learning rate: 0.004365158322401661\n"
     ]
    },
    {
     "data": {
      "image/png": "[encoded data removed]",
      "text/plain": [
       "<Figure size 640x480 with 1 Axes>"
      ]
     },
     "metadata": {},
     "output_type": "display_data"
    },
    {
     "name": "stdout",
     "output_type": "stream",
     "text": [
      "Forward Pass Time: 9.563748 seconds\n"
     ]
    }
   ],
   "source": [
    "# find optimal learning rate\n",
    "from lightning.pytorch.tuner import Tuner\n",
    "\n",
    "import time\n",
    "\n",
    "start_time = time.time()\n",
    "\n",
    "res = Tuner(trainer).lr_find(\n",
    "    net, train_dataloaders=train_dataloader, val_dataloaders=val_dataloader, min_lr=1e-5, max_lr=1e-1\n",
    ")\n",
    "print(f\"suggested learning rate: {res.suggestion()}\")\n",
    "fig = res.plot(show=True, suggest=True)\n",
    "fig.show()\n",
    "net.hparams.learning_rate = res.suggestion()\n",
    "\n",
    "torch.cuda.synchronize() \n",
    "end_time = time.time()\n",
    "\n",
    "completion_time = end_time - start_time\n",
    "\n",
    "time_hyperopt.append(completion_time)\n",
    "\n",
    "print(f\"Forward Pass Time: {completion_time:.6f} seconds\")\n",
    "\n",
    "torch.cuda.empty_cache()"
   ]
  },
  {
   "cell_type": "markdown",
   "id": "5e390705",
   "metadata": {},
   "source": [
    "##### Model training"
   ]
  },
  {
   "cell_type": "code",
   "execution_count": 7,
   "id": "b4bd82cf",
   "metadata": {},
   "outputs": [
    {
     "name": "stderr",
     "output_type": "stream",
     "text": [
      "GPU available: True (cuda), used: True\n",
      "TPU available: False, using: 0 TPU cores\n",
      "HPU available: False, using: 0 HPUs\n"
     ]
    },
    {
     "name": "stderr",
     "output_type": "stream",
     "text": [
      "LOCAL_RANK: 0 - CUDA_VISIBLE_DEVICES: [0]\n",
      "\n",
      "  | Name            | Type                 | Params | Mode \n",
      "-----------------------------------------------------------------\n",
      "0 | loss            | MQF2DistributionLoss | 3.5 K  | train\n",
      "1 | logging_metrics | ModuleList           | 0      | train\n",
      "2 | embeddings      | MultiEmbedding       | 0      | train\n",
      "3 | model           | NHiTS                | 26.1 K | train\n",
      "-----------------------------------------------------------------\n",
      "29.6 K    Trainable params\n",
      "0         Non-trainable params\n",
      "29.6 K    Total params\n",
      "0.118     Total estimated model params size (MB)\n",
      "63        Modules in train mode\n",
      "0         Modules in eval mode\n"
     ]
    },
    {
     "data": {
      "application/vnd.jupyter.widget-view+json": {
       "model_id": "daf5cb9e1a0b411a8d34a5aac6a3f18e",
       "version_major": 2,
       "version_minor": 0
      },
      "text/plain": [
       "Sanity Checking: |          | 0/? [00:00<?, ?it/s]"
      ]
     },
     "metadata": {},
     "output_type": "display_data"
    },
    {
     "data": {
      "application/vnd.jupyter.widget-view+json": {
       "model_id": "99d04f4de2074d7e8d760776f0d5269d",
       "version_major": 2,
       "version_minor": 0
      },
      "text/plain": [
       "Training: |          | 0/? [00:00<?, ?it/s]"
      ]
     },
     "metadata": {},
     "output_type": "display_data"
    },
    {
     "data": {
      "application/vnd.jupyter.widget-view+json": {
       "model_id": "9f644c17f12447f38921000d8f1c2d00",
       "version_major": 2,
       "version_minor": 0
      },
      "text/plain": [
       "Validation: |          | 0/? [00:00<?, ?it/s]"
      ]
     },
     "metadata": {},
     "output_type": "display_data"
    },
    {
     "data": {
      "application/vnd.jupyter.widget-view+json": {
       "model_id": "b2d8342832024eadae4978fbc267863d",
       "version_major": 2,
       "version_minor": 0
      },
      "text/plain": [
       "Validation: |          | 0/? [00:00<?, ?it/s]"
      ]
     },
     "metadata": {},
     "output_type": "display_data"
    },
    {
     "data": {
      "application/vnd.jupyter.widget-view+json": {
       "model_id": "4e93700beccb49bd80eab8960b03e60a",
       "version_major": 2,
       "version_minor": 0
      },
      "text/plain": [
       "Validation: |          | 0/? [00:00<?, ?it/s]"
      ]
     },
     "metadata": {},
     "output_type": "display_data"
    },
    {
     "data": {
      "application/vnd.jupyter.widget-view+json": {
       "model_id": "34dd3c48f9554969b09b0c2ffe9fa19d",
       "version_major": 2,
       "version_minor": 0
      },
      "text/plain": [
       "Validation: |          | 0/? [00:00<?, ?it/s]"
      ]
     },
     "metadata": {},
     "output_type": "display_data"
    },
    {
     "data": {
      "application/vnd.jupyter.widget-view+json": {
       "model_id": "2ea5849bdcea4cbc8e3a86cd247c1c6f",
       "version_major": 2,
       "version_minor": 0
      },
      "text/plain": [
       "Validation: |          | 0/? [00:00<?, ?it/s]"
      ]
     },
     "metadata": {},
     "output_type": "display_data"
    },
    {
     "name": "stderr",
     "output_type": "stream",
     "text": [
      "`Trainer.fit` stopped: `max_epochs=5` reached.\n"
     ]
    },
    {
     "name": "stdout",
     "output_type": "stream",
     "text": [
      "Forward Pass Time: 10.913651 seconds\n"
     ]
    }
   ],
   "source": [
    "import torch\n",
    "early_stop_callback = EarlyStopping(monitor=\"val_loss\", min_delta=1e-4, patience=10, verbose=False, mode=\"min\")\n",
    "trainer = pl.Trainer(\n",
    "    logger=False,\n",
    "    max_epochs=5,\n",
    "    accelerator=\"cuda\",\n",
    "    enable_model_summary=True,\n",
    "    gradient_clip_val=1.0,\n",
    "    callbacks=[early_stop_callback],\n",
    "    limit_train_batches=30,\n",
    "    enable_checkpointing=False,\n",
    ")\n",
    "\n",
    "net = NHiTS.from_dataset(\n",
    "    training,\n",
    "    learning_rate=5e-3,\n",
    "    log_interval=10,\n",
    "    log_val_interval=1,\n",
    "    weight_decay=1e-2,\n",
    "    backcast_loss_ratio=0.0,\n",
    "    hidden_size=64,\n",
    "    optimizer=\"AdamW\",\n",
    "    loss=MQF2DistributionLoss(prediction_length=max_prediction_length),\n",
    ")\n",
    "\n",
    "import time\n",
    "\n",
    "start_time = time.time()\n",
    "trainer.fit(\n",
    "    net,\n",
    "    train_dataloaders=train_dataloader,\n",
    "    val_dataloaders=val_dataloader,\n",
    ")\n",
    "torch.cuda.synchronize() \n",
    "end_time = time.time()\n",
    "\n",
    "completion_time = end_time - start_time\n",
    "\n",
    "time_train.append(completion_time)\n",
    "\n",
    "print(f\"Forward Pass Time: {completion_time:.6f} seconds\")\n",
    "\n",
    "torch.cuda.empty_cache()"
   ]
  },
  {
   "cell_type": "markdown",
   "id": "ae23980f",
   "metadata": {},
   "source": [
    "### Testing on old code/default @ precompute = False"
   ]
  },
  {
   "cell_type": "markdown",
   "id": "7e76ba2b",
   "metadata": {},
   "source": [
    "##### Intialize TimeSeriesDataSet and DataLoader"
   ]
  },
  {
   "cell_type": "markdown",
   "id": "d7df2d81",
   "metadata": {},
   "source": [
    "What you will notice here is that the DataLoader initailization is faster than with precompute=True, this is because, when precompute=True, the precomputations of tensor is done during DataLoader initialization. This code will be extremely fast relative to the previous case."
   ]
  },
  {
   "cell_type": "code",
   "execution_count": 128,
   "id": "ce9f95b4",
   "metadata": {},
   "outputs": [
    {
     "name": "stdout",
     "output_type": "stream",
     "text": [
      "Using precompute = False\n",
      "Using precompute = False\n",
      "DataLoader initalizatoin time: 0.000158 seconds\n"
     ]
    }
   ],
   "source": [
    "# create dataset and dataloaders\n",
    "max_encoder_length = 30\n",
    "max_prediction_length = 10\n",
    "\n",
    "training_cutoff = data[\"time_idx\"].max() - max_prediction_length\n",
    "\n",
    "context_length = max_encoder_length\n",
    "prediction_length = max_prediction_length\n",
    "\n",
    "training = TimeSeriesDataSet(\n",
    "    data[lambda x: x.time_idx <= training_cutoff],\n",
    "    time_idx=\"time_idx\",\n",
    "    target=\"value\",\n",
    "    categorical_encoders={\"series\": NaNLabelEncoder().fit(data.series)},\n",
    "    group_ids=[\"series\"],\n",
    "    # only unknown variable is \"value\" - and N-HiTS can also not take any additional variables\n",
    "    time_varying_unknown_reals=[\"value\"],\n",
    "    max_encoder_length=context_length,\n",
    "    max_prediction_length=prediction_length,\n",
    ")\n",
    "\n",
    "validation = TimeSeriesDataSet.from_dataset(training, data, min_prediction_idx=training_cutoff + 1)\n",
    "batch_size = 1024*8\n",
    "\n",
    "import time\n",
    "\n",
    "start_time = time.time()\n",
    "\n",
    "train_dataloader = training.to_dataloader(train=True, batch_size=batch_size, num_workers=0, pin_memory=True, shuffle=True)\n",
    "val_dataloader = validation.to_dataloader(train=False, batch_size=batch_size, num_workers=0, pin_memory=True, shuffle=False)\n",
    "\n",
    "end_time = time.time()\n",
    "\n",
    "print(f\"DataLoader initalizatoin time: {end_time - start_time:.6f} seconds\")\n",
    "\n",
    "torch.cuda.empty_cache()"
   ]
  },
  {
   "cell_type": "code",
   "execution_count": 9,
   "id": "294470a5",
   "metadata": {},
   "outputs": [
    {
     "name": "stderr",
     "output_type": "stream",
     "text": [
      "You are using the plain ModelCheckpoint callback. Consider using LitModelCheckpoint which with seamless uploading to Model registry.\n",
      "GPU available: True (cuda), used: True\n",
      "TPU available: False, using: 0 TPU cores\n",
      "HPU available: False, using: 0 HPUs\n",
      "LOCAL_RANK: 0 - CUDA_VISIBLE_DEVICES: [0]\n"
     ]
    }
   ],
   "source": [
    "# calculate baseline absolute error\n",
    "baseline_predictions = Baseline().predict(val_dataloader, trainer_kwargs=dict(accelerator=\"cuda\"), return_y=True)\n",
    "SMAPE()(baseline_predictions.output, baseline_predictions.y)\n",
    "torch.cuda.empty_cache()"
   ]
  },
  {
   "cell_type": "code",
   "execution_count": null,
   "id": "50d6725e",
   "metadata": {},
   "outputs": [
    {
     "name": "stderr",
     "output_type": "stream",
     "text": [
      "Seed set to 42\n",
      "You are using the plain ModelCheckpoint callback. Consider using LitModelCheckpoint which with seamless uploading to Model registry.\n",
      "GPU available: True (cuda), used: True\n",
      "TPU available: False, using: 0 TPU cores\n",
      "HPU available: False, using: 0 HPUs\n"
     ]
    }
   ],
   "source": [
    "pl.seed_everything(42)\n",
    "trainer = pl.Trainer(accelerator=\"cuda\", gradient_clip_val=0.1)\n",
    "net = NHiTS.from_dataset(\n",
    "    training,\n",
    "    learning_rate=3e-2,\n",
    "    weight_decay=1e-2,\n",
    "    loss=MQF2DistributionLoss(prediction_length=max_prediction_length),\n",
    "    backcast_loss_ratio=0.0,\n",
    "    hidden_size=64,\n",
    "    optimizer=\"AdamW\",\n",
    ")\n",
    "\n",
    "torch.cuda.empty_cache()"
   ]
  },
  {
   "cell_type": "markdown",
   "id": "a7dfdee6",
   "metadata": {},
   "source": [
    "##### Perform hyperparmeter optimization"
   ]
  },
  {
   "cell_type": "code",
   "execution_count": 11,
   "id": "04c933d8",
   "metadata": {},
   "outputs": [
    {
     "name": "stderr",
     "output_type": "stream",
     "text": [
      "LOCAL_RANK: 0 - CUDA_VISIBLE_DEVICES: [0]\n"
     ]
    },
    {
     "data": {
      "application/vnd.jupyter.widget-view+json": {
       "model_id": "39da6f05deb241a19764403c97ed4170",
       "version_major": 2,
       "version_minor": 0
      },
      "text/plain": [
       "Finding best initial lr:   0%|          | 0/100 [00:00<?, ?it/s]"
      ]
     },
     "metadata": {},
     "output_type": "display_data"
    },
    {
     "name": "stderr",
     "output_type": "stream",
     "text": [
      "`Trainer.fit` stopped: `max_steps=100` reached.\n",
      "Learning rate set to 0.0036307805477010144\n",
      "Restoring states from the checkpoint path at /root/work/git_proof/pytorch_forecasting/.lr_find_88936895-de2c-4f8a-ba83-c0b898ac230e.ckpt\n",
      "Restored all states from the checkpoint at /root/work/git_proof/pytorch_forecasting/.lr_find_88936895-de2c-4f8a-ba83-c0b898ac230e.ckpt\n"
     ]
    },
    {
     "name": "stdout",
     "output_type": "stream",
     "text": [
      "suggested learning rate: 0.0036307805477010144\n"
     ]
    },
    {
     "data": {
      "image/png": "[encoded data removed]",
      "text/plain": [
       "<Figure size 640x480 with 1 Axes>"
      ]
     },
     "metadata": {},
     "output_type": "display_data"
    },
    {
     "name": "stdout",
     "output_type": "stream",
     "text": [
      "Forward Pass Time: 217.804100 seconds\n"
     ]
    }
   ],
   "source": [
    "# find optimal learning rate\n",
    "from lightning.pytorch.tuner import Tuner\n",
    "\n",
    "import time\n",
    "\n",
    "start_time = time.time()\n",
    "\n",
    "res = Tuner(trainer).lr_find(\n",
    "    net, train_dataloaders=train_dataloader, val_dataloaders=val_dataloader, min_lr=1e-5, max_lr=1e-1\n",
    ")\n",
    "print(f\"suggested learning rate: {res.suggestion()}\")\n",
    "fig = res.plot(show=True, suggest=True)\n",
    "fig.show()\n",
    "net.hparams.learning_rate = res.suggestion()\n",
    "\n",
    "torch.cuda.synchronize() \n",
    "end_time = time.time()\n",
    "\n",
    "completion_time = end_time - start_time\n",
    "\n",
    "time_hyperopt.append(completion_time)\n",
    "\n",
    "print(f\"Forward Pass Time: {completion_time:.6f} seconds\")\n",
    "\n",
    "torch.cuda.empty_cache()"
   ]
  },
  {
   "cell_type": "markdown",
   "id": "5b375640",
   "metadata": {},
   "source": [
    "##### Model training"
   ]
  },
  {
   "cell_type": "code",
   "execution_count": 12,
   "id": "31d3cc8f",
   "metadata": {},
   "outputs": [
    {
     "name": "stderr",
     "output_type": "stream",
     "text": [
      "GPU available: True (cuda), used: True\n",
      "TPU available: False, using: 0 TPU cores\n"
     ]
    },
    {
     "name": "stderr",
     "output_type": "stream",
     "text": [
      "HPU available: False, using: 0 HPUs\n",
      "LOCAL_RANK: 0 - CUDA_VISIBLE_DEVICES: [0]\n",
      "\n",
      "  | Name            | Type                 | Params | Mode \n",
      "-----------------------------------------------------------------\n",
      "0 | loss            | MQF2DistributionLoss | 3.5 K  | train\n",
      "1 | logging_metrics | ModuleList           | 0      | train\n",
      "2 | embeddings      | MultiEmbedding       | 0      | train\n",
      "3 | model           | NHiTS                | 26.1 K | train\n",
      "-----------------------------------------------------------------\n",
      "29.6 K    Trainable params\n",
      "0         Non-trainable params\n",
      "29.6 K    Total params\n",
      "0.118     Total estimated model params size (MB)\n",
      "63        Modules in train mode\n",
      "0         Modules in eval mode\n"
     ]
    },
    {
     "data": {
      "application/vnd.jupyter.widget-view+json": {
       "model_id": "9628e45a754b4ff3912e0360b2d7ad2f",
       "version_major": 2,
       "version_minor": 0
      },
      "text/plain": [
       "Sanity Checking: |          | 0/? [00:00<?, ?it/s]"
      ]
     },
     "metadata": {},
     "output_type": "display_data"
    },
    {
     "data": {
      "application/vnd.jupyter.widget-view+json": {
       "model_id": "e6091d671eec4eb09afcaf674a717e6b",
       "version_major": 2,
       "version_minor": 0
      },
      "text/plain": [
       "Training: |          | 0/? [00:00<?, ?it/s]"
      ]
     },
     "metadata": {},
     "output_type": "display_data"
    },
    {
     "data": {
      "application/vnd.jupyter.widget-view+json": {
       "model_id": "3ae0311149e048efaecd1beb42f6585b",
       "version_major": 2,
       "version_minor": 0
      },
      "text/plain": [
       "Validation: |          | 0/? [00:00<?, ?it/s]"
      ]
     },
     "metadata": {},
     "output_type": "display_data"
    },
    {
     "data": {
      "application/vnd.jupyter.widget-view+json": {
       "model_id": "8b5bf7d03b3241eabbd6cc23b7788378",
       "version_major": 2,
       "version_minor": 0
      },
      "text/plain": [
       "Validation: |          | 0/? [00:00<?, ?it/s]"
      ]
     },
     "metadata": {},
     "output_type": "display_data"
    },
    {
     "data": {
      "application/vnd.jupyter.widget-view+json": {
       "model_id": "f8fff37b0cee4326a4063164a0f383ee",
       "version_major": 2,
       "version_minor": 0
      },
      "text/plain": [
       "Validation: |          | 0/? [00:00<?, ?it/s]"
      ]
     },
     "metadata": {},
     "output_type": "display_data"
    },
    {
     "data": {
      "application/vnd.jupyter.widget-view+json": {
       "model_id": "44fd11b0f3a34428ae63b033cd1bba93",
       "version_major": 2,
       "version_minor": 0
      },
      "text/plain": [
       "Validation: |          | 0/? [00:00<?, ?it/s]"
      ]
     },
     "metadata": {},
     "output_type": "display_data"
    },
    {
     "data": {
      "application/vnd.jupyter.widget-view+json": {
       "model_id": "43a7be1de960481dbdce578cbe84fcc1",
       "version_major": 2,
       "version_minor": 0
      },
      "text/plain": [
       "Validation: |          | 0/? [00:00<?, ?it/s]"
      ]
     },
     "metadata": {},
     "output_type": "display_data"
    },
    {
     "name": "stderr",
     "output_type": "stream",
     "text": [
      "`Trainer.fit` stopped: `max_epochs=5` reached.\n"
     ]
    },
    {
     "name": "stdout",
     "output_type": "stream",
     "text": [
      "Forward Pass Time: 263.333608 seconds\n"
     ]
    }
   ],
   "source": [
    "import torch\n",
    "early_stop_callback = EarlyStopping(monitor=\"val_loss\", min_delta=1e-4, patience=10, verbose=False, mode=\"min\")\n",
    "trainer = pl.Trainer(\n",
    "    logger=False,\n",
    "    max_epochs=5,\n",
    "    accelerator=\"cuda\",\n",
    "    enable_model_summary=True,\n",
    "    gradient_clip_val=1.0,\n",
    "    callbacks=[early_stop_callback],\n",
    "    limit_train_batches=30,\n",
    "    enable_checkpointing=False,\n",
    ")\n",
    "\n",
    "\n",
    "net = NHiTS.from_dataset(\n",
    "    training,\n",
    "    learning_rate=5e-3,\n",
    "    log_interval=10,\n",
    "    log_val_interval=1,\n",
    "    weight_decay=1e-2,\n",
    "    backcast_loss_ratio=0.0,\n",
    "    hidden_size=64,\n",
    "    optimizer=\"AdamW\",\n",
    "    loss=MQF2DistributionLoss(prediction_length=max_prediction_length),\n",
    ")\n",
    "\n",
    "import time\n",
    "\n",
    "start_time = time.time()\n",
    "trainer.fit(\n",
    "    net,\n",
    "    train_dataloaders=train_dataloader,\n",
    "    val_dataloaders=val_dataloader,\n",
    ")\n",
    "torch.cuda.synchronize() \n",
    "end_time = time.time()\n",
    "\n",
    "completion_time = end_time - start_time\n",
    "\n",
    "time_train.append(completion_time)\n",
    "\n",
    "print(f\"Forward Pass Time: {completion_time:.6f} seconds\")\n",
    "\n",
    "torch.cuda.empty_cache()"
   ]
  },
  {
   "cell_type": "code",
   "execution_count": 18,
   "id": "1c1898f7",
   "metadata": {},
   "outputs": [
    {
     "name": "stdout",
     "output_type": "stream",
     "text": [
      "Hyperopt Time:  [9.563747882843018, 217.80409979820251]\n",
      "Train Time:  [10.913650751113892, 263.333607673645]\n"
     ]
    }
   ],
   "source": [
    "time_hyperopt = [9.563747882843018, 217.80409979820251]\n",
    "time_train = [10.913650751113892, 263.333607673645]\n",
    "print (\"Hyperopt Time: \", time_hyperopt)\n",
    "print (\"Train Time: \", time_train)"
   ]
  },
  {
   "cell_type": "markdown",
   "id": "978c4e2d",
   "metadata": {},
   "source": [
    "### Performance comparisons"
   ]
  },
  {
   "cell_type": "markdown",
   "id": "2b7664fd",
   "metadata": {},
   "source": [
    "Here, we compare the performance when precompute=True compared to the default code @ precompute=False. We compare the results from Hyperparameter Optimizations and Model training as these are where most of the time and computing resource is spent."
   ]
  },
  {
   "cell_type": "code",
   "execution_count": 123,
   "id": "a2b91033",
   "metadata": {},
   "outputs": [
    {
     "data": {
      "image/png": "[encoded data removed]",
      "text/plain": [
       "<Figure size 1800x1000 with 1 Axes>"
      ]
     },
     "metadata": {},
     "output_type": "display_data"
    }
   ],
   "source": [
    "import matplotlib.pyplot as plt\n",
    "from matplotlib.patches import Patch\n",
    "\n",
    "factor_size = 2.0\n",
    "\n",
    "factor_hyperopt = [time_hyperopt[1] / time_hyperopt[0], 1.0]\n",
    "factor_train    = [time_train[1] / time_train[0], 1.0]\n",
    "factors = factor_hyperopt + factor_train\n",
    "\n",
    "colors = [\"#00a2ff\", \"#9e9e9e\"] * 2\n",
    "\n",
    "y_pos = [3.1, 2.1, 1.0, 0.0]\n",
    "\n",
    "fig, ax = plt.subplots(figsize=(9*factor_size, 5*factor_size))\n",
    "bars = ax.barh(y_pos, factors, color=colors, height=0.95)\n",
    "\n",
    "fig.suptitle('Performance Boost: PR 1846 vs Old code', fontsize=12*factor_size, y=0.99)\n",
    "\n",
    "legend_elements = [\n",
    "    Patch(facecolor=\"#00a2ff\", label='PR 1846 (precompute=True)'),\n",
    "    Patch(facecolor=\"#9e9e9e\", label='Old code (precompute=False)')\n",
    "]\n",
    "\n",
    "ax.legend(handles=legend_elements,\n",
    "          bbox_to_anchor=(0, 1.08), \n",
    "          loc='lower left',\n",
    "          frameon=False,\n",
    "          fontsize=10*factor_size,\n",
    "          ncol=2, \n",
    "          borderaxespad=0)\n",
    "\n",
    "ax.annotate('▶  Higher is better', xy=(0, 1.03), xycoords='axes fraction',\n",
    "            ha='left', va='bottom', fontsize=10*factor_size, fontweight='normal',\n",
    "            color='black')\n",
    "\n",
    "\n",
    "ax.set_yticks([])\n",
    "ax.set_ylim(-0.7, 3.8)\n",
    "\n",
    "ax.text(-1.2, 2.7, 'Hyperopt', rotation='vertical',\n",
    "        va='center', ha='center', fontsize=10*factor_size)\n",
    "\n",
    "ax.text(-1.2, 0.5, 'Training', rotation='vertical',\n",
    "        va='center', ha='center', fontsize=10*factor_size)\n",
    "\n",
    "for bar in bars:\n",
    "    width = bar.get_width()\n",
    "    ax.text(width + 0.2, bar.get_y() + bar.get_height() / 2,\n",
    "            f'×{width:.2f}',\n",
    "            va='center', fontsize=12*factor_size, fontweight='bold',\n",
    "            bbox=dict(boxstyle='round,pad=0.2', fc='white', ec='none'))\n",
    "\n",
    "\n",
    "ax.set_xlabel('Speedup Factor', fontsize=10*factor_size)\n",
    "ax.tick_params(axis='x', labelsize=10*factor_size)\n",
    "plt.tight_layout()\n",
    "plt.show()"
   ]
  },
  {
   "cell_type": "markdown",
   "id": "2cd6cad1",
   "metadata": {},
   "source": [
    "**Key Observations**\n",
    "\n",
    "   - **Hyperopt Phase**: PR 1846 achieves a **22.77× speedup** over the old code.  \n",
    "   - **Training Phase**: An even greater gain is observed with a **24.13× speedup**.  \n",
    "\n",
    "\n",
    "When comparing PR 1846 with `precompute=True` to the old implementation, the speedup is substantial—over 22× faster during hyperparameter optimization, and even more than 24× in the training phase.\n",
    "\n",
    "So notice, by sacrificing fraction of a time for precomputing, we can maximize the use of GPU,"
   ]
  },
  {
   "cell_type": "code",
   "execution_count": null,
   "id": "fe5e67cf",
   "metadata": {},
   "outputs": [],
   "source": []
  }
 ],
 "metadata": {
  "kernelspec": {
   "display_name": "ai",
   "language": "python",
   "name": "python3"
  },
  "language_info": {
   "codemirror_mode": {
    "name": "ipython",
    "version": 3
   },
   "file_extension": ".py",
   "mimetype": "text/x-python",
   "name": "python",
   "nbconvert_exporter": "python",
   "pygments_lexer": "ipython3",
   "version": "3.10.16"
  }
 },
 "nbformat": 4,
 "nbformat_minor": 5
}
